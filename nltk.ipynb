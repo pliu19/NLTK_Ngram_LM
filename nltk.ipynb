{
 "cells": [
  {
   "cell_type": "code",
   "execution_count": 1,
   "metadata": {},
   "outputs": [],
   "source": [
    "from __future__ import unicode_literals\n",
    "\n",
    "from collections import Counter, defaultdict\n",
    "from copy import copy\n",
    "from itertools import chain\n",
    "\n",
    "from nltk.util import ngrams\n",
    "from nltk.probability import FreqDist, ConditionalFreqDist\n",
    "from nltk import compat"
   ]
  },
  {
   "cell_type": "code",
   "execution_count": 2,
   "metadata": {},
   "outputs": [],
   "source": [
    "@compat.python_2_unicode_compatible\n",
    "class NgramModelVocabulary(Counter):\n",
    "    \"\"\"Stores language model vocabulary.\n",
    "    Satisfies two common language modeling requirements for a vocabulary:\n",
    "    - When checking membership and calculating its size, filters items by comparing\n",
    "      their counts to a cutoff value.\n",
    "    - Adds 1 to its size so as to account for \"unknown\" tokens.\n",
    "    \"\"\"\n",
    "\n",
    "    def __init__(self, unknown_cutoff, *counter_args):\n",
    "        Counter.__init__(self, *counter_args)\n",
    "        self.cutoff = unknown_cutoff\n",
    "\n",
    "    @property\n",
    "    def cutoff(self):\n",
    "        return self._cutoff\n",
    "\n",
    "    @cutoff.setter\n",
    "    def cutoff(self, new_cutoff):\n",
    "        if new_cutoff < 1:\n",
    "            msg_template = \"Cutoff value cannot be less than 1. Got: {0}\"\n",
    "            raise ValueError(msg_template.format(new_cutoff))\n",
    "        self._cutoff = new_cutoff\n",
    "\n",
    "    def __contains__(self, item):\n",
    "        \"\"\"Only consider items with counts GE to cutoff as being in the vocabulary.\"\"\"\n",
    "        return self[item] >= self.cutoff\n",
    "\n",
    "    def __len__(self):\n",
    "        \"\"\"This should reflect a) filtering items by count, b) accounting for unknowns.\n",
    "        The first is achieved by relying on the membership check implementation.\n",
    "        The second is achieved by adding 1 to vocabulary size.\n",
    "        \"\"\"\n",
    "        # the if-clause here looks a bit dumb, should we make it clearer?\n",
    "        return sum(1 for item in self if item in self) + 1\n",
    "\n",
    "    def __copy__(self):\n",
    "        return self.__class__(self._cutoff, self)\n",
    "\n",
    "\n",
    "@compat.python_2_unicode_compatible\n",
    "class EmptyVocabularyError(Exception):\n",
    "    pass\n",
    "\n",
    "\n",
    "@compat.python_2_unicode_compatible\n",
    "class NgramCounter(object):\n",
    "    \"\"\"Class for counting ngrams\"\"\"\n",
    "\n",
    "    def __init__(self, order, vocabulary, unk_cutoff=None, unk_label=\"<UNK>\", **ngrams_kwargs):\n",
    "        \"\"\"\n",
    "        :type training_text: List[List[str]]\n",
    "        \"\"\"\n",
    "\n",
    "        if order < 1:\n",
    "            message = \"Order of NgramCounter cannot be less than 1. Got: {0}\"\n",
    "            raise ValueError(message.format(order))\n",
    "\n",
    "        self.order = order\n",
    "        self.unk_label = unk_label\n",
    "\n",
    "        # Preset some common defaults...\n",
    "        self.ngrams_kwargs = {\n",
    "            \"pad_left\": True,\n",
    "            \"pad_right\": True,\n",
    "            \"left_pad_symbol\": \"<s>\",\n",
    "            \"right_pad_symbol\": \"</s>\"\n",
    "        }\n",
    "        # While allowing whatever the user passes to override them\n",
    "        self.ngrams_kwargs.update(ngrams_kwargs)\n",
    "        # Set up the vocabulary\n",
    "        self._set_up_vocabulary(vocabulary, unk_cutoff)\n",
    "\n",
    "        self.ngrams = defaultdict(ConditionalFreqDist)\n",
    "        self.unigrams = FreqDist()\n",
    "\n",
    "    def _set_up_vocabulary(self, vocabulary, unk_cutoff):\n",
    "        self.vocabulary = copy(vocabulary)  # copy needed to prevent state sharing\n",
    "        if unk_cutoff is not None:\n",
    "            # If cutoff value is provided, override vocab's cutoff\n",
    "            self.vocabulary.cutoff = unk_cutoff\n",
    "\n",
    "        if self.ngrams_kwargs['pad_left']:\n",
    "            lpad_sym = self.ngrams_kwargs.get(\"left_pad_symbol\")\n",
    "            self.vocabulary[lpad_sym] = self.vocabulary.cutoff\n",
    "\n",
    "        if self.ngrams_kwargs['pad_right']:\n",
    "            rpad_sym = self.ngrams_kwargs.get(\"right_pad_symbol\")\n",
    "            self.vocabulary[rpad_sym] = self.vocabulary.cutoff\n",
    "\n",
    "    def _enumerate_ngram_orders(self):\n",
    "        return enumerate(range(self.order, 1, -1))\n",
    "\n",
    "    def train_counts(self, training_text):\n",
    "        # Note here \"1\" indicates an empty vocabulary!\n",
    "        # See NgramModelVocabulary __len__ method for more.\n",
    "        if len(self.vocabulary) <= 1:\n",
    "            raise EmptyVocabularyError(\"Cannot start counting ngrams until \"\n",
    "                                       \"vocabulary contains more than one item.\")\n",
    "\n",
    "        for sent in training_text:\n",
    "            \n",
    "            checked_sent = (self.check_against_vocab(word) for word in sent)\n",
    "            \n",
    "            sent_start = True\n",
    "            for ngram in self.to_ngrams(checked_sent):\n",
    "                context, word = tuple(ngram[:-1]), ngram[-1]\n",
    "\n",
    "                if sent_start:\n",
    "                    for context_word in context:\n",
    "                        self.unigrams[context_word] += 1\n",
    "                    sent_start = False\n",
    "\n",
    "                for trunc_index, ngram_order in self._enumerate_ngram_orders():\n",
    "                    trunc_context = context[trunc_index:]\n",
    "                    # note that above line doesn't affect context on first iteration\n",
    "                    self.ngrams[ngram_order][trunc_context][word] += 1\n",
    "                self.unigrams[word] += 1\n",
    "\n",
    "    def check_against_vocab(self, word):\n",
    "        if word in self.vocabulary:\n",
    "            return word\n",
    "        return self.unk_label\n",
    "\n",
    "    def to_ngrams(self, sequence):\n",
    "        \"\"\"Wrapper around util.ngrams with usefull options saved during initialization.\n",
    "        :param sequence: same as nltk.util.ngrams\n",
    "        :type sequence: any iterable\n",
    "        \"\"\"\n",
    "        return ngrams(sequence, self.order, **self.ngrams_kwargs)\n",
    "    "
   ]
  },
  {
   "cell_type": "code",
   "execution_count": 3,
   "metadata": {},
   "outputs": [],
   "source": [
    "def build_vocabulary(cutoff, *texts):\n",
    "    combined_texts = chain(*texts)\n",
    "    return NgramModelVocabulary(cutoff, combined_texts)\n",
    "\n",
    "\n",
    "def count_ngrams(order, vocabulary, *training_texts, **counter_kwargs):\n",
    "    counter = NgramCounter(order, vocabulary, **counter_kwargs)\n",
    "\n",
    "#     for text in training_texts:\n",
    "#         counter.train_counts(text)\n",
    "    \n",
    "    counter.train_counts(training_texts)\n",
    "    \n",
    "    return counter\n",
    "\n",
    "\n",
    "@compat.python_2_unicode_compatible\n",
    "class NgramModelVocabulary(Counter):\n",
    "    \"\"\"Stores language model vocabulary.\n",
    "    Satisfies two common language modeling requirements for a vocabulary:\n",
    "    - When checking membership and calculating its size, filters items by comparing\n",
    "      their counts to a cutoff value.\n",
    "    - Adds 1 to its size so as to account for \"unknown\" tokens.\n",
    "    \"\"\"\n",
    "\n",
    "    def __init__(self, unknown_cutoff, *counter_args):\n",
    "        Counter.__init__(self, *counter_args)\n",
    "        self.cutoff = unknown_cutoff\n",
    "\n",
    "    @property\n",
    "    def cutoff(self):\n",
    "        return self._cutoff\n",
    "\n",
    "    @cutoff.setter\n",
    "    def cutoff(self, new_cutoff):\n",
    "        if new_cutoff < 1:\n",
    "            msg_template = \"Cutoff value cannot be less than 1. Got: {0}\"\n",
    "            raise ValueError(msg_template.format(new_cutoff))\n",
    "        self._cutoff = new_cutoff\n",
    "\n",
    "    def __contains__(self, item):\n",
    "        \"\"\"Only consider items with counts GE to cutoff as being in the vocabulary.\"\"\"\n",
    "        return self[item] >= self.cutoff\n",
    "\n",
    "    def __len__(self):\n",
    "        \"\"\"This should reflect a) filtering items by count, b) accounting for unknowns.\n",
    "        The first is achieved by relying on the membership check implementation.\n",
    "        The second is achieved by adding 1 to vocabulary size.\n",
    "        \"\"\"\n",
    "        # the if-clause here looks a bit dumb, should we make it clearer?\n",
    "        return sum(1 for item in self if item in self) + 1\n",
    "\n",
    "    def __copy__(self):\n",
    "        return self.__class__(self._cutoff, self)\n",
    "\n",
    "\n",
    "@compat.python_2_unicode_compatible\n",
    "class EmptyVocabularyError(Exception):\n",
    "    pass\n"
   ]
  },
  {
   "cell_type": "code",
   "execution_count": 4,
   "metadata": {},
   "outputs": [],
   "source": [
    "from nltk_official_Ngram_model import * \n",
    "\n",
    "cutoff = 1\n",
    "order = 3\n",
    "\n",
    "# docs = [['fine very', 'b', 'c'], ['a', 'c', 'c']]\n",
    "\n",
    "docs = [['i', 'am', 'fine'], ['thanks'], ['i', 'am', 'good']]\n",
    "\n",
    "vocab = build_vocabulary(cutoff, *docs)"
   ]
  },
  {
   "cell_type": "code",
   "execution_count": 5,
   "metadata": {},
   "outputs": [
    {
     "data": {
      "text/plain": [
       "NgramModelVocabulary({'i': 2, 'am': 2, 'fine': 1, 'thanks': 1, 'good': 1})"
      ]
     },
     "execution_count": 5,
     "metadata": {},
     "output_type": "execute_result"
    }
   ],
   "source": [
    "vocab"
   ]
  },
  {
   "cell_type": "code",
   "execution_count": 6,
   "metadata": {},
   "outputs": [],
   "source": [
    "counter = count_ngrams(order, vocab, *docs)"
   ]
  },
  {
   "cell_type": "code",
   "execution_count": 7,
   "metadata": {},
   "outputs": [
    {
     "data": {
      "text/plain": [
       "FreqDist({'<s>': 6, '</s>': 6, 'i': 2, 'am': 2, 'fine': 1, 'thanks': 1, 'good': 1})"
      ]
     },
     "execution_count": 7,
     "metadata": {},
     "output_type": "execute_result"
    }
   ],
   "source": [
    "counter.unigrams "
   ]
  },
  {
   "cell_type": "code",
   "execution_count": 8,
   "metadata": {},
   "outputs": [],
   "source": [
    "# for key, value in counter.ngrams.items():\n",
    "    \n",
    "#     print(key, value.tabulate())\n",
    "#     print('#'*100)"
   ]
  },
  {
   "cell_type": "code",
   "execution_count": 9,
   "metadata": {},
   "outputs": [
    {
     "name": "stdout",
     "output_type": "stream",
     "text": [
      "         </s>     am   fine   good      i thanks \n",
      "('</s>',)      3      0      0      0      0      0 \n",
      "('<s>',)      0      0      0      0      2      1 \n",
      "('am',)      0      0      1      1      0      0 \n",
      "('fine',)      1      0      0      0      0      0 \n",
      "('good',)      1      0      0      0      0      0 \n",
      "('i',)      0      2      0      0      0      0 \n",
      "('thanks',)      1      0      0      0      0      0 \n"
     ]
    }
   ],
   "source": [
    "counter.ngrams[2].tabulate()"
   ]
  },
  {
   "cell_type": "code",
   "execution_count": 10,
   "metadata": {},
   "outputs": [],
   "source": [
    "model = MLENgramModel(counter)"
   ]
  },
  {
   "cell_type": "code",
   "execution_count": 11,
   "metadata": {},
   "outputs": [
    {
     "data": {
      "text/plain": [
       "0.5"
      ]
     },
     "execution_count": 11,
     "metadata": {},
     "output_type": "execute_result"
    }
   ],
   "source": [
    "model.score('fine', context=['i','am'])"
   ]
  },
  {
   "cell_type": "code",
   "execution_count": null,
   "metadata": {},
   "outputs": [],
   "source": []
  }
 ],
 "metadata": {
  "kernelspec": {
   "display_name": "Python 3",
   "language": "python",
   "name": "python3"
  },
  "language_info": {
   "codemirror_mode": {
    "name": "ipython",
    "version": 3
   },
   "file_extension": ".py",
   "mimetype": "text/x-python",
   "name": "python",
   "nbconvert_exporter": "python",
   "pygments_lexer": "ipython3",
   "version": "3.6.5"
  }
 },
 "nbformat": 4,
 "nbformat_minor": 2
}
